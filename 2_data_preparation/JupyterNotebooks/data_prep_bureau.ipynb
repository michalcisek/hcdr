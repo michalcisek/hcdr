{
 "cells": [
  {
   "cell_type": "code",
   "execution_count": 2,
   "metadata": {
    "collapsed": false
   },
   "outputs": [],
   "source": [
    "import numpy as np\n",
    "import pandas as pd \n",
    "from sklearn.preprocessing import LabelEncoder\n",
    "import os\n",
    "import warnings\n",
    "warnings.filterwarnings('ignore')\n",
    "import matplotlib.pyplot as plt\n",
    "%matplotlib inline \n",
    "from functools import reduce"
   ]
  },
  {
   "cell_type": "code",
   "execution_count": 3,
   "metadata": {
    "collapsed": false
   },
   "outputs": [
    {
     "ename": "RuntimeError",
     "evalue": "module compiled against API version 0xb but this version of numpy is 0xa",
     "output_type": "error",
     "traceback": [
      "\u001b[0;31m---------------------------------------------------------------------------\u001b[0m",
      "\u001b[0;31mRuntimeError\u001b[0m                              Traceback (most recent call last)",
      "\u001b[0;31mRuntimeError\u001b[0m: module compiled against API version 0xb but this version of numpy is 0xa"
     ]
    },
    {
     "ename": "ImportError",
     "evalue": "numpy.core.multiarray failed to import",
     "output_type": "error",
     "traceback": [
      "\u001b[0;31m---------------------------------------------------------------------------\u001b[0m",
      "\u001b[0;31mImportError\u001b[0m                               Traceback (most recent call last)",
      "\u001b[0;32m<ipython-input-3-57968f417579>\u001b[0m in \u001b[0;36m<module>\u001b[0;34m()\u001b[0m\n\u001b[0;32m----> 1\u001b[0;31m \u001b[1;32mimport\u001b[0m \u001b[0mpyarrow\u001b[0m\u001b[1;33m\u001b[0m\u001b[0m\n\u001b[0m",
      "\u001b[0;32mC:\\Users\\ppitera002\\AppData\\Local\\Continuum\\Anaconda3\\lib\\site-packages\\pyarrow\\__init__.py\u001b[0m in \u001b[0;36m<module>\u001b[0;34m()\u001b[0m\n\u001b[1;32m     58\u001b[0m \u001b[1;33m\u001b[0m\u001b[0m\n\u001b[1;32m     59\u001b[0m \u001b[1;33m\u001b[0m\u001b[0m\n\u001b[0;32m---> 60\u001b[0;31m \u001b[1;32mfrom\u001b[0m \u001b[0mpyarrow\u001b[0m\u001b[1;33m.\u001b[0m\u001b[0mlib\u001b[0m \u001b[1;32mimport\u001b[0m \u001b[0mcpu_count\u001b[0m\u001b[1;33m,\u001b[0m \u001b[0mset_cpu_count\u001b[0m\u001b[1;33m\u001b[0m\u001b[0m\n\u001b[0m\u001b[1;32m     61\u001b[0m from pyarrow.lib import (null, bool_,\n\u001b[1;32m     62\u001b[0m                          \u001b[0mint8\u001b[0m\u001b[1;33m,\u001b[0m \u001b[0mint16\u001b[0m\u001b[1;33m,\u001b[0m \u001b[0mint32\u001b[0m\u001b[1;33m,\u001b[0m \u001b[0mint64\u001b[0m\u001b[1;33m,\u001b[0m\u001b[1;33m\u001b[0m\u001b[0m\n",
      "\u001b[0;32mC:\\Users\\ppitera002\\AppData\\Local\\Continuum\\Anaconda3\\lib\\site-packages\\pyarrow\\lib.pyx\u001b[0m in \u001b[0;36minit pyarrow.lib\u001b[0;34m()\u001b[0m\n\u001b[1;32m     34\u001b[0m \u001b[0mcimport\u001b[0m \u001b[0mcpython\u001b[0m \u001b[1;32mas\u001b[0m \u001b[0mcp\u001b[0m\u001b[1;33m\u001b[0m\u001b[0m\n\u001b[1;32m     35\u001b[0m \u001b[1;33m\u001b[0m\u001b[0m\n\u001b[0;32m---> 36\u001b[0;31m \u001b[0marrow_init_numpy\u001b[0m\u001b[1;33m(\u001b[0m\u001b[1;33m)\u001b[0m\u001b[1;33m\u001b[0m\u001b[0m\n\u001b[0m\u001b[1;32m     37\u001b[0m \u001b[0mset_numpy_nan\u001b[0m\u001b[1;33m(\u001b[0m\u001b[0mnp\u001b[0m\u001b[1;33m.\u001b[0m\u001b[0mnan\u001b[0m\u001b[1;33m)\u001b[0m\u001b[1;33m\u001b[0m\u001b[0m\n\u001b[1;32m     38\u001b[0m \u001b[1;33m\u001b[0m\u001b[0m\n",
      "\u001b[0;31mImportError\u001b[0m: numpy.core.multiarray failed to import"
     ]
    }
   ],
   "source": [
    "import pyarrow"
   ]
  },
  {
   "cell_type": "code",
   "execution_count": 5,
   "metadata": {
    "collapsed": false,
    "scrolled": true
   },
   "outputs": [
    {
     "name": "stdout",
     "output_type": "stream",
     "text": [
      "Collecting numpy\n",
      "  Downloading https://files.pythonhosted.org/packages/62/47/54baeff52b37be258dd97442f52d8a2a9c27c4af8fcbc5467827c5ae5eed/numpy-1.15.0-cp35-none-win_amd64.whl (13.5MB)\n",
      "Installing collected packages: numpy\n",
      "  Found existing installation: numpy 1.11.1\n",
      "    Uninstalling numpy-1.11.1:\n",
      "      Successfully uninstalled numpy-1.11.1\n"
     ]
    },
    {
     "name": "stderr",
     "output_type": "stream",
     "text": [
      "Could not install packages due to an EnvironmentError: [WinError 5] Access is denied: 'C:\\\\Users\\\\PPITER~1\\\\AppData\\\\Local\\\\Temp\\\\pip-uninstall-1t7sb0iz\\\\users\\\\ppitera002\\\\appdata\\\\local\\\\continuum\\\\anaconda3\\\\lib\\\\site-packages\\\\numpy\\\\core\\\\multiarray.cp35-win_amd64.pyd'\n",
      "Consider using the `--user` option or check the permissions.\n",
      "\n"
     ]
    }
   ],
   "source": [
    "import sys\n",
    "!\"{sys.executable}\" -m pip install numpy --upgrade"
   ]
  },
  {
   "cell_type": "code",
   "execution_count": null,
   "metadata": {
    "collapsed": true
   },
   "outputs": [],
   "source": [
    "app_train = pd.read_csv('../1_data_import/application_train.csv')\n",
    "print('Training data shape: ', app_train.shape)\n",
    "app_train.head()"
   ]
  },
  {
   "cell_type": "code",
   "execution_count": null,
   "metadata": {
    "collapsed": true
   },
   "outputs": [],
   "source": [
    "bureau = pd.read_csv('../1_data_import/bureau.csv')\n",
    "print('Bureau shape: ', bureau.shape)\n",
    "bureau.head()"
   ]
  },
  {
   "cell_type": "code",
   "execution_count": null,
   "metadata": {
    "collapsed": true
   },
   "outputs": [],
   "source": [
    "bureau[\"CREDIT_ACTIVE_NUM\"] = np.where(bureau[\"CREDIT_ACTIVE\"]==\"Closed\",0,1)\n",
    "bureau.sort(columns=[\"SK_ID_CURR\",\"SK_ID_BUREAU\"])"
   ]
  },
  {
   "cell_type": "code",
   "execution_count": null,
   "metadata": {
    "collapsed": true
   },
   "outputs": [],
   "source": [
    "#bureau_sample = bureau.head(100000)\n",
    "bureau_max = bureau.groupby(\"SK_ID_CURR\").max()\n",
    "bureau_max.columns = [\"ALL_MAX_\"+x for x in bureau_max.columns]\n",
    "bureau_count = bureau.groupby(\"SK_ID_CURR\").count()\n",
    "bureau_count.columns = [\"ALL_COUNT_\"+x for x in bureau_count.columns]\n",
    "bureau_mean = bureau.groupby(\"SK_ID_CURR\").mean()\n",
    "bureau_mean.columns = [\"ALL_MEAN_\"+x for x in bureau_mean.columns]\n",
    "bureau_sum = bureau.groupby(\"SK_ID_CURR\").sum()\n",
    "bureau_sum.columns = [\"ALL_SUM_\"+x for x in bureau_sum.columns]"
   ]
  },
  {
   "cell_type": "code",
   "execution_count": null,
   "metadata": {
    "collapsed": true
   },
   "outputs": [],
   "source": [
    "bureau_max = bureau_max.reset_index()\n",
    "bureau_count = bureau_count.reset_index()\n",
    "bureau_mean = bureau_mean.reset_index()\n",
    "bureau_sum = bureau_sum.reset_index()"
   ]
  },
  {
   "cell_type": "code",
   "execution_count": null,
   "metadata": {
    "collapsed": true
   },
   "outputs": [],
   "source": []
  },
  {
   "cell_type": "code",
   "execution_count": null,
   "metadata": {
    "collapsed": true
   },
   "outputs": [],
   "source": [
    "bureau_balance = pd.read_csv('../1_data_import/bureau_balance.csv')\n",
    "bureau_balance_last_active = bureau_balance[bureau_balance.STATUS!='C'].groupby('SK_ID_BUREAU').max().reset_index()"
   ]
  },
  {
   "cell_type": "code",
   "execution_count": null,
   "metadata": {
    "collapsed": true
   },
   "outputs": [],
   "source": [
    "bureau_from_last_12M = pd.merge(bureau\n",
    "                                ,bureau_balance_last_active\n",
    "                                ,how=\"left\"\n",
    "                                ,on = \"SK_ID_BUREAU\"\n",
    "                               )\n",
    "bureau_from_last_12M = bureau_from_last_12M[bureau_from_last_12M.MONTHS_BALANCE>=-12]"
   ]
  },
  {
   "cell_type": "code",
   "execution_count": null,
   "metadata": {
    "collapsed": true
   },
   "outputs": [],
   "source": [
    "#bureau_sample = bureau.head(100000)\n",
    "bureau_max_from_last_12M = bureau_from_last_12M.groupby(\"SK_ID_CURR\").max()\n",
    "bureau_max_from_last_12M.columns = [\"12M_MAX_\"+x for x in bureau_max_from_last_12M.columns]\n",
    "bureau_count_from_last_12M = bureau_from_last_12M.groupby(\"SK_ID_CURR\").count()\n",
    "bureau_count_from_last_12M.columns = [\"12M_COUNT_\"+x for x in bureau_count_from_last_12M.columns]\n",
    "bureau_mean_from_last_12M = bureau_from_last_12M.groupby(\"SK_ID_CURR\").mean()\n",
    "bureau_mean_from_last_12M.columns = [\"12M_MEAN_\"+x for x in bureau_mean_from_last_12M.columns]\n",
    "bureau_sum_from_last_12M = bureau_from_last_12M.groupby(\"SK_ID_CURR\").sum()\n",
    "bureau_sum_from_last_12M.columns = [\"12M_SUM_\"+x for x in bureau_sum_from_last_12M.columns]"
   ]
  },
  {
   "cell_type": "code",
   "execution_count": null,
   "metadata": {
    "collapsed": true
   },
   "outputs": [],
   "source": [
    "bureau_max_from_last_12M = bureau_max_from_last_12M.reset_index()\n",
    "bureau_count_from_last_12M = bureau_count_from_last_12M.reset_index()\n",
    "bureau_mean_from_last_12M = bureau_mean_from_last_12M.reset_index()\n",
    "bureau_sum_from_last_12M = bureau_sum_from_last_12M.reset_index()"
   ]
  },
  {
   "cell_type": "code",
   "execution_count": null,
   "metadata": {
    "collapsed": true
   },
   "outputs": [],
   "source": [
    "dfs = [bureau_max,bureau_count,bureau_max_from_last_12M,bureau_count_from_last_12M,bureau_mean_from_last_12M,bureau_sum_from_last_12M,bureau_mean,bureau_sum]"
   ]
  },
  {
   "cell_type": "code",
   "execution_count": null,
   "metadata": {
    "collapsed": true
   },
   "outputs": [],
   "source": [
    "bureau_final = reduce(lambda left,right: pd.merge(left,right,on='SK_ID_CURR'), dfs)"
   ]
  },
  {
   "cell_type": "code",
   "execution_count": null,
   "metadata": {
    "collapsed": true
   },
   "outputs": [],
   "source": [
    "#bureau_final.to_csv('bureau_features.csv')\n",
    "feather.write_feather(bureau_final, 'bureau_features')"
   ]
  }
 ],
 "metadata": {
  "anaconda-cloud": {},
  "kernelspec": {
   "display_name": "Python [default]",
   "language": "python",
   "name": "python3"
  },
  "language_info": {
   "codemirror_mode": {
    "name": "ipython",
    "version": 3
   },
   "file_extension": ".py",
   "mimetype": "text/x-python",
   "name": "python",
   "nbconvert_exporter": "python",
   "pygments_lexer": "ipython3",
   "version": "3.5.2"
  }
 },
 "nbformat": 4,
 "nbformat_minor": 2
}
